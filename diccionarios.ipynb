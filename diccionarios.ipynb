{
  "nbformat": 4,
  "nbformat_minor": 0,
  "metadata": {
    "colab": {
      "provenance": [],
      "authorship_tag": "ABX9TyPWjwQGRC8+o1XLSxSDpLTO",
      "include_colab_link": true
    },
    "kernelspec": {
      "name": "python3",
      "display_name": "Python 3"
    },
    "language_info": {
      "name": "python"
    }
  },
  "cells": [
    {
      "cell_type": "markdown",
      "metadata": {
        "id": "view-in-github",
        "colab_type": "text"
      },
      "source": [
        "<a href=\"https://colab.research.google.com/github/robert2999/Poo_con_python/blob/main/diccionarios.ipynb\" target=\"_parent\"><img src=\"https://colab.research.google.com/assets/colab-badge.svg\" alt=\"Open In Colab\"/></a>"
      ]
    },
    {
      "cell_type": "code",
      "execution_count": null,
      "metadata": {
        "id": "Unwdq9ZJ1NeQ"
      },
      "outputs": [],
      "source": [
        "#diccionario\n",
        "diccionario={'nombre':'Roberto','apellido':'Rodenas'}"
      ]
    },
    {
      "cell_type": "code",
      "source": [
        "diccionario['nombre']"
      ],
      "metadata": {
        "colab": {
          "base_uri": "https://localhost:8080/",
          "height": 35
        },
        "id": "2MVaDdQ61ilc",
        "outputId": "4fdddff9-6eab-461d-9e02-e2bd25ec1cba"
      },
      "execution_count": null,
      "outputs": [
        {
          "output_type": "execute_result",
          "data": {
            "text/plain": [
              "'Roberto'"
            ],
            "application/vnd.google.colaboratory.intrinsic+json": {
              "type": "string"
            }
          },
          "metadata": {},
          "execution_count": 2
        }
      ]
    },
    {
      "cell_type": "code",
      "source": [
        "#cambiamos roberto por carmen\n",
        "diccionario['nombre']='Carmen'\n",
        "diccionario"
      ],
      "metadata": {
        "colab": {
          "base_uri": "https://localhost:8080/"
        },
        "id": "jhTTbQyM1nmc",
        "outputId": "5a45a068-9cfc-4d4f-fce5-a8ed44cd1008"
      },
      "execution_count": null,
      "outputs": [
        {
          "output_type": "execute_result",
          "data": {
            "text/plain": [
              "{'nombre': 'Carmen', 'apellido': 'Rodenas'}"
            ]
          },
          "metadata": {},
          "execution_count": 3
        }
      ]
    },
    {
      "cell_type": "code",
      "source": [
        "# eliminamor todos los nombres\n",
        "del(diccionario['nombre'])\n",
        "diccionario"
      ],
      "metadata": {
        "colab": {
          "base_uri": "https://localhost:8080/"
        },
        "id": "ColdcZpf118D",
        "outputId": "57653b89-3a36-4ab0-f946-98dce1745992"
      },
      "execution_count": null,
      "outputs": [
        {
          "output_type": "execute_result",
          "data": {
            "text/plain": [
              "{'apellido': 'Rodenas'}"
            ]
          },
          "metadata": {},
          "execution_count": 4
        }
      ]
    },
    {
      "cell_type": "code",
      "source": [
        "edades={'estudiante':20,'otros':30}"
      ],
      "metadata": {
        "id": "dzq4xVqX19er"
      },
      "execution_count": null,
      "outputs": []
    },
    {
      "cell_type": "code",
      "source": [
        "#supongamos que equivoque y es 21\n",
        "edades['estudiante']+=1\n",
        "edades"
      ],
      "metadata": {
        "colab": {
          "base_uri": "https://localhost:8080/"
        },
        "id": "QYsNwUev2b-D",
        "outputId": "8afcecac-ad1e-4bc0-ef0c-b5c054688663"
      },
      "execution_count": null,
      "outputs": [
        {
          "output_type": "execute_result",
          "data": {
            "text/plain": [
              "{'estudiante': 21, 'otros': 30}"
            ]
          },
          "metadata": {},
          "execution_count": 6
        }
      ]
    },
    {
      "cell_type": "code",
      "source": [
        "edades['estudiante']+=edades['otros']\n",
        "edades"
      ],
      "metadata": {
        "colab": {
          "base_uri": "https://localhost:8080/"
        },
        "id": "DB7DvJty2kKq",
        "outputId": "266e683a-c110-455f-b273-169aa52ea90d"
      },
      "execution_count": null,
      "outputs": [
        {
          "output_type": "execute_result",
          "data": {
            "text/plain": [
              "{'estudiante': 51, 'otros': 30}"
            ]
          },
          "metadata": {},
          "execution_count": 7
        }
      ]
    },
    {
      "cell_type": "code",
      "source": [
        "for edad in edades:\n",
        "  print(edad)\n"
      ],
      "metadata": {
        "colab": {
          "base_uri": "https://localhost:8080/"
        },
        "id": "aLZ8CN3Z20tz",
        "outputId": "d6212397-4d38-42f6-ec13-00849e5062c3"
      },
      "execution_count": null,
      "outputs": [
        {
          "output_type": "stream",
          "name": "stdout",
          "text": [
            "estudiante\n",
            "otros\n"
          ]
        }
      ]
    },
    {
      "cell_type": "code",
      "source": [
        "for edad in edades:\n",
        "  print(edades[edad])"
      ],
      "metadata": {
        "colab": {
          "base_uri": "https://localhost:8080/"
        },
        "id": "BjB9QNPF3AT6",
        "outputId": "768232c8-cf50-4ff2-b573-864e3e9f08bc"
      },
      "execution_count": null,
      "outputs": [
        {
          "output_type": "stream",
          "name": "stdout",
          "text": [
            "51\n",
            "30\n"
          ]
        }
      ]
    },
    {
      "cell_type": "code",
      "source": [
        "lista=[]\n"
      ],
      "metadata": {
        "id": "sctu4XxX3QSL"
      },
      "execution_count": null,
      "outputs": []
    },
    {
      "cell_type": "code",
      "source": [
        "lista.append(edades)"
      ],
      "metadata": {
        "id": "Zm2HaDzg3UzT"
      },
      "execution_count": null,
      "outputs": []
    },
    {
      "cell_type": "code",
      "source": [
        "lista"
      ],
      "metadata": {
        "colab": {
          "base_uri": "https://localhost:8080/"
        },
        "id": "caBBdCxL3ZuL",
        "outputId": "cb02fd85-f3d4-43a5-d816-fe15c254b5cf"
      },
      "execution_count": null,
      "outputs": [
        {
          "output_type": "execute_result",
          "data": {
            "text/plain": [
              "[{'estudiante': 51, 'otros': 30}]"
            ]
          },
          "metadata": {},
          "execution_count": 12
        }
      ]
    },
    {
      "cell_type": "code",
      "source": [
        "#pilas\n",
        "apilar=[1,2,3,4,5]"
      ],
      "metadata": {
        "id": "w7TrC0NO3kuT"
      },
      "execution_count": null,
      "outputs": []
    },
    {
      "cell_type": "code",
      "source": [
        "apilar.append(6)\n",
        "apilar.append(7)"
      ],
      "metadata": {
        "id": "JG38-9JQ4IGi"
      },
      "execution_count": null,
      "outputs": []
    },
    {
      "cell_type": "code",
      "source": [
        "apilar"
      ],
      "metadata": {
        "colab": {
          "base_uri": "https://localhost:8080/"
        },
        "id": "OQw6p53b4RCT",
        "outputId": "da007ac8-2e3e-4952-d17e-61afd5e42b83"
      },
      "execution_count": null,
      "outputs": [
        {
          "output_type": "execute_result",
          "data": {
            "text/plain": [
              "[1, 2, 3, 4, 5, 6, 7]"
            ]
          },
          "metadata": {},
          "execution_count": 15
        }
      ]
    },
    {
      "cell_type": "code",
      "source": [
        "#sacar de la pila\n",
        "apilar.pop()"
      ],
      "metadata": {
        "colab": {
          "base_uri": "https://localhost:8080/"
        },
        "id": "jmgtNh6C4Spq",
        "outputId": "bf60ac58-3c2f-4eda-a956-7ead42ce3b5e"
      },
      "execution_count": null,
      "outputs": [
        {
          "output_type": "execute_result",
          "data": {
            "text/plain": [
              "7"
            ]
          },
          "metadata": {},
          "execution_count": 16
        }
      ]
    },
    {
      "cell_type": "code",
      "source": [
        "apilar.pop()"
      ],
      "metadata": {
        "colab": {
          "base_uri": "https://localhost:8080/"
        },
        "id": "kxPK3u8N4Y0C",
        "outputId": "d11e4bc8-b0c5-425c-c871-b8ed070e1fee"
      },
      "execution_count": null,
      "outputs": [
        {
          "output_type": "execute_result",
          "data": {
            "text/plain": [
              "6"
            ]
          },
          "metadata": {},
          "execution_count": 17
        }
      ]
    },
    {
      "cell_type": "code",
      "source": [
        "apilar"
      ],
      "metadata": {
        "colab": {
          "base_uri": "https://localhost:8080/"
        },
        "id": "FvsU2S5w4cAL",
        "outputId": "38d92101-032c-41eb-81b7-817fafb772c2"
      },
      "execution_count": null,
      "outputs": [
        {
          "output_type": "execute_result",
          "data": {
            "text/plain": [
              "[1, 2, 3, 4, 5]"
            ]
          },
          "metadata": {},
          "execution_count": 18
        }
      ]
    },
    {
      "cell_type": "code",
      "source": [
        "# colas\n",
        "from collections import deque"
      ],
      "metadata": {
        "id": "rG8U567_4nQh"
      },
      "execution_count": null,
      "outputs": []
    },
    {
      "cell_type": "code",
      "source": [
        "colas=deque()"
      ],
      "metadata": {
        "id": "bkSO-X8b4_tj"
      },
      "execution_count": null,
      "outputs": []
    },
    {
      "cell_type": "code",
      "source": [
        "colas"
      ],
      "metadata": {
        "colab": {
          "base_uri": "https://localhost:8080/"
        },
        "id": "Nqc10DVi5DPr",
        "outputId": "c9c110cc-1acc-403e-f795-714e09c29913"
      },
      "execution_count": null,
      "outputs": [
        {
          "output_type": "execute_result",
          "data": {
            "text/plain": [
              "deque([])"
            ]
          },
          "metadata": {},
          "execution_count": 21
        }
      ]
    },
    {
      "cell_type": "code",
      "source": [
        "type(colas)"
      ],
      "metadata": {
        "colab": {
          "base_uri": "https://localhost:8080/"
        },
        "id": "epk2xmYA5E4y",
        "outputId": "e70b271a-46ff-46c6-f50e-c065b50f24d1"
      },
      "execution_count": null,
      "outputs": [
        {
          "output_type": "execute_result",
          "data": {
            "text/plain": [
              "collections.deque"
            ]
          },
          "metadata": {},
          "execution_count": 22
        }
      ]
    },
    {
      "cell_type": "code",
      "source": [
        "colas=deque(['Roberto','Carmen','Oscar'])\n",
        "colas"
      ],
      "metadata": {
        "colab": {
          "base_uri": "https://localhost:8080/"
        },
        "id": "dkhjSkl65H2r",
        "outputId": "4d68580a-0c80-4fdc-8a80-82c261e81e62"
      },
      "execution_count": null,
      "outputs": [
        {
          "output_type": "execute_result",
          "data": {
            "text/plain": [
              "deque(['Roberto', 'Carmen', 'Oscar'])"
            ]
          },
          "metadata": {},
          "execution_count": 23
        }
      ]
    },
    {
      "cell_type": "code",
      "source": [
        "colas.pop()"
      ],
      "metadata": {
        "colab": {
          "base_uri": "https://localhost:8080/",
          "height": 35
        },
        "id": "fWeXR2U05Sf6",
        "outputId": "c08023c4-3b03-409f-eaae-ebc2ba12a62c"
      },
      "execution_count": null,
      "outputs": [
        {
          "output_type": "execute_result",
          "data": {
            "text/plain": [
              "'Oscar'"
            ],
            "application/vnd.google.colaboratory.intrinsic+json": {
              "type": "string"
            }
          },
          "metadata": {},
          "execution_count": 24
        }
      ]
    },
    {
      "cell_type": "code",
      "source": [
        "#popleft() sacas al primero de las colas , esto no sucede con las pilas\n",
        "colas.popleft()"
      ],
      "metadata": {
        "colab": {
          "base_uri": "https://localhost:8080/",
          "height": 35
        },
        "id": "OnYTmw2q5Vm7",
        "outputId": "52988d86-edfa-4215-f93d-00ee38ece80f"
      },
      "execution_count": null,
      "outputs": [
        {
          "output_type": "execute_result",
          "data": {
            "text/plain": [
              "'Roberto'"
            ],
            "application/vnd.google.colaboratory.intrinsic+json": {
              "type": "string"
            }
          },
          "metadata": {},
          "execution_count": 25
        }
      ]
    },
    {
      "cell_type": "code",
      "source": [
        "print('Ingresa 5 numeros')\n",
        "liste=[]\n",
        "for i in range(5):\n",
        "  r=int(input('ingrese el numero:'))\n",
        "  liste.append(r)\n",
        "print(liste)"
      ],
      "metadata": {
        "colab": {
          "base_uri": "https://localhost:8080/"
        },
        "id": "DAGnNATa5hhi",
        "outputId": "597082a0-5e5d-47f3-d31b-57ef08f6eec1"
      },
      "execution_count": null,
      "outputs": [
        {
          "output_type": "stream",
          "name": "stdout",
          "text": [
            "Ingresa 5 numeros\n",
            "ingrese el numero:3\n",
            "ingrese el numero:6\n",
            "ingrese el numero:7\n",
            "ingrese el numero:9\n",
            "ingrese el numero:4\n",
            "[3, 6, 7, 9, 4]\n"
          ]
        }
      ]
    },
    {
      "cell_type": "code",
      "source": [
        "r='roberto'\n",
        "o='Rodenas'\n",
        "print(f'Mi nombre es {r} y mi apellido es {o}')"
      ],
      "metadata": {
        "colab": {
          "base_uri": "https://localhost:8080/"
        },
        "id": "UK1vvo8q7sOT",
        "outputId": "82d29979-35d7-4239-be85-46ba226a1af2"
      },
      "execution_count": null,
      "outputs": [
        {
          "output_type": "stream",
          "name": "stdout",
          "text": [
            "Mi nombre es roberto y mi apellido es Rodenas\n"
          ]
        }
      ]
    },
    {
      "cell_type": "code",
      "source": [
        "# funciones\n"
      ],
      "metadata": {
        "id": "GvKmsyid8qR6"
      },
      "execution_count": null,
      "outputs": []
    }
  ]
}