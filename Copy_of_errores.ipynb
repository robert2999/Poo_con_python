{
  "nbformat": 4,
  "nbformat_minor": 0,
  "metadata": {
    "colab": {
      "provenance": [],
      "authorship_tag": "ABX9TyPBAUCyJOVQxRczfgfSVfsd",
      "include_colab_link": true
    },
    "kernelspec": {
      "name": "python3",
      "display_name": "Python 3"
    },
    "language_info": {
      "name": "python"
    }
  },
  "cells": [
    {
      "cell_type": "markdown",
      "metadata": {
        "id": "view-in-github",
        "colab_type": "text"
      },
      "source": [
        "<a href=\"https://colab.research.google.com/github/robert2999/Poo_con_python/blob/main/Copy_of_errores.ipynb\" target=\"_parent\"><img src=\"https://colab.research.google.com/assets/colab-badge.svg\" alt=\"Open In Colab\"/></a>"
      ]
    },
    {
      "cell_type": "markdown",
      "source": [
        "Funciones recursivas"
      ],
      "metadata": {
        "id": "Y7BEe-gK9NSb"
      }
    },
    {
      "cell_type": "code",
      "execution_count": null,
      "metadata": {
        "colab": {
          "base_uri": "https://localhost:8080/"
        },
        "id": "H_L3i4Ra9KPX",
        "outputId": "3a83fc40-d803-4266-a17c-0f5fe981a2ed"
      },
      "outputs": [
        {
          "output_type": "stream",
          "name": "stdout",
          "text": [
            "9\n",
            "8\n",
            "7\n",
            "6\n",
            "5\n",
            "4\n",
            "3\n",
            "2\n",
            "1\n",
            "Termino la cuenta atras\n"
          ]
        }
      ],
      "source": [
        "def atras(segundos):\n",
        "  segundos-=1\n",
        "  if segundos>0:\n",
        "    print(segundos)\n",
        "    atras(segundos)\n",
        "  else:\n",
        "    print('Termino la cuenta atras')\n",
        "atras(10)"
      ]
    },
    {
      "cell_type": "code",
      "source": [
        "def suma(numero):\n",
        "  if numero==1:\n",
        "    return 1\n",
        "  else:\n",
        "    return numero+suma(numero-1)\n",
        "suma(3)"
      ],
      "metadata": {
        "colab": {
          "base_uri": "https://localhost:8080/"
        },
        "id": "WKJi_HKP-MB6",
        "outputId": "fcaf5739-98bd-4ada-d43a-c4bab8cb1308"
      },
      "execution_count": null,
      "outputs": [
        {
          "output_type": "execute_result",
          "data": {
            "text/plain": [
              "6"
            ]
          },
          "metadata": {},
          "execution_count": 7
        }
      ]
    },
    {
      "cell_type": "code",
      "source": [
        "abs(-10)"
      ],
      "metadata": {
        "colab": {
          "base_uri": "https://localhost:8080/"
        },
        "id": "fT330RLF_74R",
        "outputId": "36fd5949-b2ad-446e-a5a0-9aa8a607f7d8"
      },
      "execution_count": null,
      "outputs": [
        {
          "output_type": "execute_result",
          "data": {
            "text/plain": [
              "10"
            ]
          },
          "metadata": {},
          "execution_count": 8
        }
      ]
    },
    {
      "cell_type": "code",
      "source": [
        "# redondeo\n",
        "round(10.5)"
      ],
      "metadata": {
        "colab": {
          "base_uri": "https://localhost:8080/"
        },
        "id": "MZ8msJtI__Th",
        "outputId": "892f096e-8573-4788-eaca-8cb0aa2bcab3"
      },
      "execution_count": null,
      "outputs": [
        {
          "output_type": "execute_result",
          "data": {
            "text/plain": [
              "10"
            ]
          },
          "metadata": {},
          "execution_count": 9
        }
      ]
    },
    {
      "cell_type": "markdown",
      "source": [
        "Errores\n"
      ],
      "metadata": {
        "id": "nOJX3bDFALiB"
      }
    },
    {
      "cell_type": "code",
      "source": [
        "try:\n",
        "  variable=int(input(\"Ingresa un numero:\"))\n",
        "  print(f'El numero que ingresaste es: {variable}')\n",
        "except:\n",
        "  print('Lo que ingresaste no es un numero')"
      ],
      "metadata": {
        "colab": {
          "base_uri": "https://localhost:8080/"
        },
        "id": "hSs33vm4ANpK",
        "outputId": "b6c1a7f4-8c51-4c17-e37c-36ffc5186e84"
      },
      "execution_count": null,
      "outputs": [
        {
          "output_type": "stream",
          "name": "stdout",
          "text": [
            "Ingresa un numero:23\n",
            "El numero que ingresaste es: 23\n"
          ]
        }
      ]
    },
    {
      "cell_type": "code",
      "source": [
        "while(True):\n",
        "  try:\n",
        "    v=int(input(\"Ingrese un numero:\"))\n",
        "    a=3\n",
        "    print(f'El valor de la variable multiplicado por 3 es {v*a}')\n",
        "\n",
        "  except:\n",
        "    print('Lo que ingresaste no es un numero')\n",
        "  else:\n",
        "    print('Introduciste correctamente un numero')\n",
        "    break\n",
        "  finally:\n",
        "    print('Fin del bucle')\n"
      ],
      "metadata": {
        "colab": {
          "base_uri": "https://localhost:8080/"
        },
        "id": "vuWT1HUNDB_C",
        "outputId": "1ba18c45-531d-4230-d3fc-4532f4b27579"
      },
      "execution_count": null,
      "outputs": [
        {
          "output_type": "stream",
          "name": "stdout",
          "text": [
            "Ingrese un numero:we\n",
            "Lo que ingresaste no es un numero\n",
            "Fin del bucle\n",
            "Ingrese un numero:3\n",
            "El valor de la variable multiplicado por 3 es 9\n",
            "Introduciste correctamente un numero\n",
            "Fin del bucle\n"
          ]
        }
      ]
    },
    {
      "cell_type": "code",
      "source": [
        "try:\n",
        "  a=input('Ingrese el numero:')\n",
        "  10/a\n",
        "except Exception as a:\n",
        "  print(type(a).__name__)"
      ],
      "metadata": {
        "colab": {
          "base_uri": "https://localhost:8080/"
        },
        "id": "YQORsd3tPSiM",
        "outputId": "864f9945-d3f0-4d24-9e37-37baa0351c43"
      },
      "execution_count": null,
      "outputs": [
        {
          "output_type": "stream",
          "name": "stdout",
          "text": [
            "Ingrese el numero:12\n",
            "TypeError\n"
          ]
        }
      ]
    },
    {
      "cell_type": "code",
      "source": [
        "try:\n",
        "  a=float(input('Ingrese el numero:'))\n",
        "  10/a\n",
        "except TypeError:\n",
        "  print('Esto es una cadena')\n",
        "except ValueError:\n",
        "  print('Debe ingresar un numero')\n",
        "except ZeroDivisionError:\n",
        "  print('No se puede dividir por cero')\n",
        "except Exception as a:\n",
        "  print(type(a).__name__)"
      ],
      "metadata": {
        "colab": {
          "base_uri": "https://localhost:8080/"
        },
        "id": "rJLX9xnOQA9K",
        "outputId": "5d00e777-f5b5-466e-fc07-4b3206630e1b"
      },
      "execution_count": null,
      "outputs": [
        {
          "output_type": "stream",
          "name": "stdout",
          "text": [
            "Ingrese el numero:0\n",
            "No se puede dividir por cero\n"
          ]
        }
      ]
    },
    {
      "cell_type": "code",
      "source": [],
      "metadata": {
        "id": "HD9FAdgiQjAR"
      },
      "execution_count": null,
      "outputs": []
    }
  ]
}